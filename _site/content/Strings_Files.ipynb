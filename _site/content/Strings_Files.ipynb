{
 "cells": [
  {
   "cell_type": "markdown",
   "metadata": {
    "slideshow": {
     "slide_type": "slide"
    }
   },
   "source": [
    "# Strings and File Processing"
   ]
  },
  {
   "cell_type": "markdown",
   "metadata": {
    "slideshow": {
     "slide_type": "slide"
    }
   },
   "source": [
    "## Strings\n",
    "\n",
    "Strings are sequences of characters, and they are used in a wide range of programming applications. Julia provides extensive functionality for working with strings and characters, including support for so-called Unicode characters. However, Julia also works efficiently using standard so-called ASCII characters and string, which we will focus on here to keep the presentation shorter."
   ]
  },
  {
   "cell_type": "markdown",
   "metadata": {
    "slideshow": {
     "slide_type": "slide"
    }
   },
   "source": [
    "### Characters\n",
    "\n",
    "ASCII is a 7-bit character set containing 128 characters. It contains the numbers from 0-9, the upper and lower case English letters from A to Z, and some special characters.\n",
    "\n",
    "The numbers 0 - 31 are used for so-called *control characters*, including for example the carriage return (number 13). The numbers 32 - 126 define the standard characters (the first character below, corresponding to number 32, is the space character):\n",
    "\n",
    "```\n",
    " !\"#$%&'()*+,-./0123456789:;<=>?@ABCDEFGHIJKLMNOPQRSTUVWXYZ[\\]^_`abcdefghijklmnopqrstuvwxyz{|}~\n",
    "```\n"
   ]
  },
  {
   "cell_type": "markdown",
   "metadata": {
    "slideshow": {
     "slide_type": "subslide"
    }
   },
   "source": [
    "Julia defines the type `Char` for representing characters, and you can create one using single quotes:"
   ]
  },
  {
   "cell_type": "code",
   "execution_count": 1,
   "metadata": {
    "slideshow": {
     "slide_type": "fragment"
    }
   },
   "outputs": [
    {
     "data": {
      "text/plain": [
       "'Q': ASCII/Unicode U+0051 (category Lu: Letter, uppercase)"
      ]
     },
     "execution_count": 1,
     "metadata": {},
     "output_type": "execute_result"
    }
   ],
   "source": [
    "c = 'Q'"
   ]
  },
  {
   "cell_type": "markdown",
   "metadata": {
    "slideshow": {
     "slide_type": "fragment"
    }
   },
   "source": [
    "You can also define the character directly using its number:"
   ]
  },
  {
   "cell_type": "code",
   "execution_count": 2,
   "metadata": {
    "slideshow": {
     "slide_type": "fragment"
    }
   },
   "outputs": [
    {
     "data": {
      "text/plain": [
       "'&': ASCII/Unicode U+0026 (category Po: Punctuation, other)"
      ]
     },
     "execution_count": 2,
     "metadata": {},
     "output_type": "execute_result"
    }
   ],
   "source": [
    "c_and = Char(38)"
   ]
  },
  {
   "cell_type": "markdown",
   "metadata": {
    "slideshow": {
     "slide_type": "subslide"
    }
   },
   "source": [
    "and you can find the number of a `Char` by converting to `Int`:"
   ]
  },
  {
   "cell_type": "code",
   "execution_count": 3,
   "metadata": {
    "slideshow": {
     "slide_type": "fragment"
    }
   },
   "outputs": [
    {
     "data": {
      "text/plain": [
       "64"
      ]
     },
     "execution_count": 3,
     "metadata": {},
     "output_type": "execute_result"
    }
   ],
   "source": [
    "c_at = Int('@')"
   ]
  },
  {
   "cell_type": "markdown",
   "metadata": {
    "slideshow": {
     "slide_type": "fragment"
    }
   },
   "source": [
    "The control characters can be created using a backslash notation, for example the carriage return:"
   ]
  },
  {
   "cell_type": "code",
   "execution_count": 4,
   "metadata": {
    "slideshow": {
     "slide_type": "fragment"
    }
   },
   "outputs": [
    {
     "data": {
      "text/plain": [
       "'\\n': ASCII/Unicode U+000a (category Cc: Other, control)"
      ]
     },
     "execution_count": 4,
     "metadata": {},
     "output_type": "execute_result"
    }
   ],
   "source": [
    "c_CR = '\\n'"
   ]
  },
  {
   "cell_type": "markdown",
   "metadata": {
    "slideshow": {
     "slide_type": "subslide"
    }
   },
   "source": [
    "You can also do comparisons and a limited amount of arithmetic with `Char` values (from Julia documentation):\n",
    "\n",
    "```julia\n",
    "julia> 'A' < 'a'\n",
    "true\n",
    "\n",
    "julia> 'A' <= 'a' <= 'Z'\n",
    "false\n",
    "\n",
    "julia> 'A' <= 'X' <= 'Z'\n",
    "true\n",
    "\n",
    "julia> 'x' - 'a'\n",
    "23\n",
    "\n",
    "julia> 'A' + 1\n",
    "'B': ASCII/Unicode U+0042 (category Lu: Letter, uppercase)\n",
    "```"
   ]
  },
  {
   "cell_type": "markdown",
   "metadata": {
    "slideshow": {
     "slide_type": "slide"
    }
   },
   "source": [
    "### String creation\n",
    "\n",
    "A string can be created from a sequence of characters using double quotes:"
   ]
  },
  {
   "cell_type": "code",
   "execution_count": 5,
   "metadata": {
    "slideshow": {
     "slide_type": "fragment"
    }
   },
   "outputs": [
    {
     "data": {
      "text/plain": [
       "\"Hello world!\\nJulia is fun\\n\""
      ]
     },
     "execution_count": 5,
     "metadata": {},
     "output_type": "execute_result"
    }
   ],
   "source": [
    "str1 = \"Hello world!\\nJulia is fun\\n\""
   ]
  },
  {
   "cell_type": "markdown",
   "metadata": {
    "slideshow": {
     "slide_type": "fragment"
    }
   },
   "source": [
    "Note that the string is shown using the backslash syntax for the control characters, but when you print it they will be interpreted the correct way (for example in this case, using a carriage return):"
   ]
  },
  {
   "cell_type": "code",
   "execution_count": 6,
   "metadata": {
    "slideshow": {
     "slide_type": "fragment"
    }
   },
   "outputs": [
    {
     "name": "stdout",
     "output_type": "stream",
     "text": [
      "Hello world!\n",
      "Julia is fun\n"
     ]
    }
   ],
   "source": [
    "print(str1)"
   ]
  },
  {
   "cell_type": "markdown",
   "metadata": {
    "slideshow": {
     "slide_type": "subslide"
    }
   },
   "source": [
    "Since the double quote and the backslash characters have special meanings, as well as the dollar character, you need to put an extra backslash in front of them if used in a string:"
   ]
  },
  {
   "cell_type": "code",
   "execution_count": 7,
   "metadata": {
    "slideshow": {
     "slide_type": "fragment"
    }
   },
   "outputs": [
    {
     "name": "stdout",
     "output_type": "stream",
     "text": [
      "I \"have\" $50, A\\b\n"
     ]
    }
   ],
   "source": [
    "str2 = \"I \\\"have\\\" \\$50, A\\\\b\\n\"\n",
    "print(str2)"
   ]
  },
  {
   "cell_type": "markdown",
   "metadata": {
    "slideshow": {
     "slide_type": "subslide"
    }
   },
   "source": [
    "Strings can also be created using triple quotes, which is convenient for multiple lines. In this case, the double quote character does not need the extra backslash:"
   ]
  },
  {
   "cell_type": "code",
   "execution_count": 8,
   "metadata": {
    "slideshow": {
     "slide_type": "fragment"
    }
   },
   "outputs": [
    {
     "name": "stdout",
     "output_type": "stream",
     "text": [
      "    This is some multi-line text. \n",
      "    Carriage return is inserted for new lines.\n",
      "    Double quotes can be used as-is: \"\n",
      "    But backslash and dollar still need extra backslashes: \\, $\n",
      "    The indentation of the lines is determined by the position of the final triple-quote.\n"
     ]
    }
   ],
   "source": [
    "str3 = \"\"\"\n",
    "    This is some multi-line text. \n",
    "    Carriage return is inserted for new lines.\n",
    "    Double quotes can be used as-is: \"\n",
    "    But backslash and dollar still need extra backslashes: \\\\, \\$\n",
    "    The indentation of the lines is determined by the position of the final triple-quote.\n",
    "\"\"\"\n",
    "print(str3)"
   ]
  },
  {
   "cell_type": "markdown",
   "metadata": {
    "slideshow": {
     "slide_type": "slide"
    }
   },
   "source": [
    "### String concatenation\n",
    "\n",
    "You can concatenate multiple strings by passing them to the `string` function. An alternative syntax is to use the multiplication `*` operator between the strings:"
   ]
  },
  {
   "cell_type": "code",
   "execution_count": 9,
   "metadata": {
    "slideshow": {
     "slide_type": "fragment"
    }
   },
   "outputs": [
    {
     "name": "stdout",
     "output_type": "stream",
     "text": [
      "Hello World\n",
      "Hello World\n"
     ]
    }
   ],
   "source": [
    "str4a = \"Hello\"\n",
    "str4b = \"World\"\n",
    "str4ab = string(str4a, \" \", str4b, \"\\n\")  # Concatenation\n",
    "str5ab = str4a * \" \" * str4b * \"\\n\"       # Same thing\n",
    "\n",
    "print(str4ab)\n",
    "print(str5ab)"
   ]
  },
  {
   "cell_type": "markdown",
   "metadata": {
    "slideshow": {
     "slide_type": "subslide"
    }
   },
   "source": [
    "Alternatively, Julia allows *interpolation* into string literals using the `$` symbol. This is often a more natural syntax for string concatenation:"
   ]
  },
  {
   "cell_type": "code",
   "execution_count": 10,
   "metadata": {
    "slideshow": {
     "slide_type": "fragment"
    }
   },
   "outputs": [
    {
     "name": "stdout",
     "output_type": "stream",
     "text": [
      "Hello World\n"
     ]
    }
   ],
   "source": [
    "str6ab = \"$str4a $str4b\\n\"\n",
    "print(str6ab)"
   ]
  },
  {
   "cell_type": "markdown",
   "metadata": {
    "slideshow": {
     "slide_type": "fragment"
    }
   },
   "source": [
    "Interpolation allows for general expressions after the `$` sign, inside parentheses unless just a single variable name. These will be evaluated and converted to strings:"
   ]
  },
  {
   "cell_type": "code",
   "execution_count": 11,
   "metadata": {
    "slideshow": {
     "slide_type": "fragment"
    }
   },
   "outputs": [
    {
     "name": "stdout",
     "output_type": "stream",
     "text": [
      "Random vector: [0.301531, 0.0656358, 0.958036]\n",
      "sin of 45 degrees = 0.7071067811865476\n"
     ]
    }
   ],
   "source": [
    "vec = rand(3)\n",
    "println(\"Random vector: $vec\")\n",
    "println(\"sin of 45 degrees = $(sind(45))\")"
   ]
  },
  {
   "cell_type": "markdown",
   "metadata": {
    "slideshow": {
     "slide_type": "subslide"
    }
   },
   "source": [
    "Another convenient notation is the power operator `^` with string and integer arguments, which concatenates multiple copies of the string:"
   ]
  },
  {
   "cell_type": "code",
   "execution_count": 12,
   "metadata": {
    "slideshow": {
     "slide_type": "fragment"
    }
   },
   "outputs": [
    {
     "data": {
      "text/plain": [
       "\"12345 12345 12345 12345 12345 12345 12345 12345 12345 \""
      ]
     },
     "execution_count": 12,
     "metadata": {},
     "output_type": "execute_result"
    }
   ],
   "source": [
    "\"12345 \"^9"
   ]
  },
  {
   "cell_type": "markdown",
   "metadata": {
    "slideshow": {
     "slide_type": "slide"
    }
   },
   "source": [
    "### String comparison\n",
    "\n",
    "You can lexicographically compare strings using the standard comparison operators (from Julia documentation):\n",
    "\n",
    "```julia\n",
    "julia> \"abracadabra\" < \"xylophone\"\n",
    "true\n",
    "\n",
    "julia> \"abracadabra\" == \"xylophone\"\n",
    "false\n",
    "\n",
    "julia> \"Hello, world.\" != \"Goodbye, world.\"\n",
    "true\n",
    "\n",
    "julia> \"1 + 2 = 3\" == \"1 + 2 = $(1 + 2)\"\n",
    "true\n",
    "```"
   ]
  },
  {
   "cell_type": "markdown",
   "metadata": {
    "slideshow": {
     "slide_type": "slide"
    }
   },
   "source": [
    "### String indexing\n",
    "\n",
    "Julia strings behave in many ways like a 1D array of characters (but beware of Unicode characters, then the indices might not be consecutive). For example, you can extract a single character from a string by indexing with an integer:"
   ]
  },
  {
   "cell_type": "code",
   "execution_count": 13,
   "metadata": {
    "slideshow": {
     "slide_type": "fragment"
    }
   },
   "outputs": [
    {
     "data": {
      "text/plain": [
       "'g': ASCII/Unicode U+0067 (category Ll: Letter, lowercase)"
      ]
     },
     "execution_count": 13,
     "metadata": {},
     "output_type": "execute_result"
    }
   ],
   "source": [
    "str = \"abcdefghij\"\n",
    "str[7]"
   ]
  },
  {
   "cell_type": "markdown",
   "metadata": {
    "slideshow": {
     "slide_type": "subslide"
    }
   },
   "source": [
    "You can extract a *substring* by indexing with a range:"
   ]
  },
  {
   "cell_type": "code",
   "execution_count": 14,
   "metadata": {
    "slideshow": {
     "slide_type": "fragment"
    }
   },
   "outputs": [
    {
     "data": {
      "text/plain": [
       "\"ghij\""
      ]
     },
     "execution_count": 14,
     "metadata": {},
     "output_type": "execute_result"
    }
   ],
   "source": [
    "str[7:end]"
   ]
  },
  {
   "cell_type": "markdown",
   "metadata": {
    "slideshow": {
     "slide_type": "fragment"
    }
   },
   "source": [
    "Note that integer indexing returns a character, but range indexing returns a string. This means e.g. that indexing with a range of length 1 returns a single character as a string:"
   ]
  },
  {
   "cell_type": "code",
   "execution_count": 15,
   "metadata": {
    "slideshow": {
     "slide_type": "fragment"
    }
   },
   "outputs": [
    {
     "data": {
      "text/plain": [
       "\"g\""
      ]
     },
     "execution_count": 15,
     "metadata": {},
     "output_type": "execute_result"
    }
   ],
   "source": [
    "str[7:7]"
   ]
  },
  {
   "cell_type": "markdown",
   "metadata": {
    "slideshow": {
     "slide_type": "subslide"
    }
   },
   "source": [
    "Alternatively, it is possible to create a *view* into a string using the type `SubString`:"
   ]
  },
  {
   "cell_type": "code",
   "execution_count": 16,
   "metadata": {
    "slideshow": {
     "slide_type": "fragment"
    }
   },
   "outputs": [
    {
     "data": {
      "text/plain": [
       "\"ghij\""
      ]
     },
     "execution_count": 16,
     "metadata": {},
     "output_type": "execute_result"
    }
   ],
   "source": [
    "sub = SubString(str, 7, 10)"
   ]
  },
  {
   "cell_type": "markdown",
   "metadata": {
    "slideshow": {
     "slide_type": "subslide"
    }
   },
   "source": [
    "The length of the string can be found with the `length` function, which can be used to loop over the characters:"
   ]
  },
  {
   "cell_type": "code",
   "execution_count": 17,
   "metadata": {
    "slideshow": {
     "slide_type": "fragment"
    }
   },
   "outputs": [
    {
     "name": "stdout",
     "output_type": "stream",
     "text": [
      "Character #1 = 'a'\n",
      "Character #2 = 'b'\n",
      "Character #3 = 'c'\n",
      "Character #4 = 'd'\n",
      "Character #5 = 'e'\n",
      "Character #6 = 'f'\n",
      "Character #7 = 'g'\n",
      "Character #8 = 'h'\n",
      "Character #9 = 'i'\n",
      "Character #10 = 'j'\n"
     ]
    }
   ],
   "source": [
    "for i = 1:length(str)\n",
    "    println(\"Character #$i = '$(str[i])'\")\n",
    "end"
   ]
  },
  {
   "cell_type": "markdown",
   "metadata": {
    "slideshow": {
     "slide_type": "subslide"
    }
   },
   "source": [
    "Strings in Julia are *immutable*, which means you cannot change the content of a string after it is created:"
   ]
  },
  {
   "cell_type": "code",
   "execution_count": 18,
   "metadata": {
    "slideshow": {
     "slide_type": "fragment"
    }
   },
   "outputs": [
    {
     "ename": "MethodError",
     "evalue": "MethodError: no method matching setindex!(::String, ::Char, ::Int64)",
     "output_type": "error",
     "traceback": [
      "MethodError: no method matching setindex!(::String, ::Char, ::Int64)",
      "",
      "Stacktrace:",
      " [1] top-level scope at In[18]:1"
     ]
    }
   ],
   "source": [
    "str[4] = 'A'    # Error - cannot change strings"
   ]
  },
  {
   "cell_type": "markdown",
   "metadata": {
    "slideshow": {
     "slide_type": "slide"
    }
   },
   "source": [
    "### Example: Check if string is a palindrome\n",
    "\n",
    "A palindrome is a sequence of characters which reads the same backward as forward. Using array operations and string comparisons, it is trivial to check if a string is a palindrome:"
   ]
  },
  {
   "cell_type": "code",
   "execution_count": 19,
   "metadata": {
    "slideshow": {
     "slide_type": "fragment"
    }
   },
   "outputs": [
    {
     "name": "stdout",
     "output_type": "stream",
     "text": [
      "\"racecar\": true\n",
      "\"Sit on a Potato Pan, Otis\": false\n",
      "\"sitonapotatopanotis\": true\n"
     ]
    }
   ],
   "source": [
    "function is_palindrome(str)\n",
    "    return str[end:-1:1] == str\n",
    "end\n",
    "\n",
    "strings = [\"racecar\", \"Sit on a Potato Pan, Otis\", \"sitonapotatopanotis\"]\n",
    "for str in strings\n",
    "    println(\"\\\"$str\\\": \", is_palindrome(str))\n",
    "end"
   ]
  },
  {
   "cell_type": "markdown",
   "metadata": {
    "slideshow": {
     "slide_type": "subslide"
    }
   },
   "source": [
    "However, we can practice recursion, string indexing, and substrings by writing the following recursive version of the function:"
   ]
  },
  {
   "cell_type": "code",
   "execution_count": 20,
   "metadata": {
    "slideshow": {
     "slide_type": "fragment"
    }
   },
   "outputs": [
    {
     "name": "stdout",
     "output_type": "stream",
     "text": [
      "\"racecar\": true\n",
      "\"Sit on a Potato Pan, Otis\": false\n",
      "\"sitonapotatopanotis\": true\n"
     ]
    }
   ],
   "source": [
    "function is_palindrome_recursive(str)\n",
    "    if length(str) ≤ 1\n",
    "        return true\n",
    "    elseif str[1] == str[end]\n",
    "        return is_palindrome_recursive(str[2:end-1])\n",
    "    else\n",
    "        return false\n",
    "    end\n",
    "end\n",
    "\n",
    "for str in strings\n",
    "    println(\"\\\"$str\\\": \", is_palindrome_recursive(str))\n",
    "end"
   ]
  },
  {
   "cell_type": "markdown",
   "metadata": {
    "slideshow": {
     "slide_type": "slide"
    }
   },
   "source": [
    "### String functions\n",
    "\n",
    "Julia defines a number of functions that operate on strings. For example,\n",
    "`lowercase` and `uppercase` converts all letters to lower- or upper-case:"
   ]
  },
  {
   "cell_type": "code",
   "execution_count": 21,
   "metadata": {
    "slideshow": {
     "slide_type": "fragment"
    }
   },
   "outputs": [
    {
     "name": "stdout",
     "output_type": "stream",
     "text": [
      "JULIA123 lower\n"
     ]
    }
   ],
   "source": [
    "println(uppercase(\"julia123 \") * lowercase(\"LOWER\"))"
   ]
  },
  {
   "cell_type": "markdown",
   "metadata": {
    "slideshow": {
     "slide_type": "fragment"
    }
   },
   "source": [
    "The `titlecase` commands capitalizes the first character of each word in a string:"
   ]
  },
  {
   "cell_type": "code",
   "execution_count": 22,
   "metadata": {
    "slideshow": {
     "slide_type": "fragment"
    }
   },
   "outputs": [
    {
     "data": {
      "text/plain": [
       "\"Searching For Characters And Substrings\""
      ]
     },
     "execution_count": 22,
     "metadata": {},
     "output_type": "execute_result"
    }
   ],
   "source": [
    "str = \"SEARCHING FOR CHARACTERS AND SUBSTRINGS\"\n",
    "titlecase(str)"
   ]
  },
  {
   "cell_type": "markdown",
   "metadata": {
    "slideshow": {
     "slide_type": "slide"
    }
   },
   "source": [
    "### Searching for characters and substrings"
   ]
  },
  {
   "cell_type": "markdown",
   "metadata": {
    "slideshow": {
     "slide_type": "fragment"
    }
   },
   "source": [
    "The ∈ operator (type \"\\in\" and tab) returns `true` if a characters appears in a string:"
   ]
  },
  {
   "cell_type": "code",
   "execution_count": 23,
   "metadata": {
    "slideshow": {
     "slide_type": "fragment"
    }
   },
   "outputs": [
    {
     "data": {
      "text/plain": [
       "false"
      ]
     },
     "execution_count": 23,
     "metadata": {},
     "output_type": "execute_result"
    }
   ],
   "source": [
    "'!' ∈ str"
   ]
  },
  {
   "cell_type": "markdown",
   "metadata": {
    "slideshow": {
     "slide_type": "subslide"
    }
   },
   "source": [
    "The function `findfirst(pattern, str)` returns the indices of the first occurance of `pattern` in `str`:"
   ]
  },
  {
   "cell_type": "code",
   "execution_count": 24,
   "metadata": {
    "slideshow": {
     "slide_type": "fragment"
    }
   },
   "outputs": [
    {
     "data": {
      "text/plain": [
       "8:10"
      ]
     },
     "execution_count": 24,
     "metadata": {},
     "output_type": "execute_result"
    }
   ],
   "source": [
    "str = \"Hello, World! These are my words.\"\n",
    "pattern = \"wor\"\n",
    "idx1 = findfirst(pattern, lowercase(str))"
   ]
  },
  {
   "cell_type": "markdown",
   "metadata": {
    "slideshow": {
     "slide_type": "fragment"
    }
   },
   "source": [
    "The function `findnext(pattern, str, start)` returns the indicies of the next occurance of `pattern` in `str` after the one at position `start`:"
   ]
  },
  {
   "cell_type": "code",
   "execution_count": 25,
   "metadata": {
    "slideshow": {
     "slide_type": "fragment"
    }
   },
   "outputs": [
    {
     "data": {
      "text/plain": [
       "28:30"
      ]
     },
     "execution_count": 25,
     "metadata": {},
     "output_type": "execute_result"
    }
   ],
   "source": [
    "idx2 = findnext(pattern, lowercase(str), idx1[end])"
   ]
  },
  {
   "cell_type": "markdown",
   "metadata": {
    "slideshow": {
     "slide_type": "fragment"
    }
   },
   "source": [
    "Similarly, `findlast` and `findprev` starts from the end of the string."
   ]
  },
  {
   "cell_type": "markdown",
   "metadata": {
    "slideshow": {
     "slide_type": "slide"
    }
   },
   "source": [
    "### Replacing substrings\n",
    "\n",
    "The function `replace(str, pattern=>repl)` searches the string `str` for all occurances of the substring `pattern`, and replace them with the string `repl`:"
   ]
  },
  {
   "cell_type": "code",
   "execution_count": 26,
   "metadata": {
    "slideshow": {
     "slide_type": "fragment"
    }
   },
   "outputs": [
    {
     "name": "stdout",
     "output_type": "stream",
     "text": [
      "Hello, World! These are my words.\n",
      "Hello there! These are my words.\n"
     ]
    }
   ],
   "source": [
    "println(str)\n",
    "println(replace(str, \", World\"=>\" there\"))"
   ]
  },
  {
   "cell_type": "markdown",
   "metadata": {
    "slideshow": {
     "slide_type": "slide"
    }
   },
   "source": [
    "## File processing"
   ]
  },
  {
   "cell_type": "markdown",
   "metadata": {
    "slideshow": {
     "slide_type": "fragment"
    }
   },
   "source": [
    "Files are commonly used by computer codes, for example to save computed data or to read tables and external data files. Julia has extensive support for working with files, but here we will focus on only the basic functionality."
   ]
  },
  {
   "cell_type": "markdown",
   "metadata": {
    "slideshow": {
     "slide_type": "subslide"
    }
   },
   "source": [
    "### Reading files\n",
    "\n",
    "First we consider the most basic way to read a text file. We create an example text file named `test_file.txt` (e.g. using the Jupyter notebook or an editor), containing some lines of text.\n",
    "\n",
    "The code below shows how to read each line of this file into a string, which can then be further processed in Julia (here it simply displays each line as a Julia string).\n",
    "\n",
    "- The function `f = open(filename)` returns a so-called stream `f` for accessing the data in the file `filename`. It will break with an error if the operation cannot be completed, for example if the file does not exist.\n",
    "\n",
    "- The function `eof(f)` (end-of-file) returns `true` if the stream `f` has reached the end of the file.\n",
    "\n",
    "- The function `readline(f)` returns a string containing the next file in the stream `f`.\n",
    "\n",
    "- The function `close(f)` closes the stream `f`."
   ]
  },
  {
   "cell_type": "code",
   "execution_count": 45,
   "metadata": {
    "slideshow": {
     "slide_type": "subslide"
    }
   },
   "outputs": [
    {
     "data": {
      "text/plain": [
       "\"This is a test file\""
      ]
     },
     "metadata": {},
     "output_type": "display_data"
    },
    {
     "data": {
      "text/plain": [
       "\"===================\""
      ]
     },
     "metadata": {},
     "output_type": "display_data"
    },
    {
     "data": {
      "text/plain": [
       "\"\""
      ]
     },
     "metadata": {},
     "output_type": "display_data"
    },
    {
     "data": {
      "text/plain": [
       "\"This is line #4\""
      ]
     },
     "metadata": {},
     "output_type": "display_data"
    },
    {
     "data": {
      "text/plain": [
       "\"Here are some comma-separated numbers:\""
      ]
     },
     "metadata": {},
     "output_type": "display_data"
    },
    {
     "data": {
      "text/plain": [
       "\"\""
      ]
     },
     "metadata": {},
     "output_type": "display_data"
    },
    {
     "data": {
      "text/plain": [
       "\"1,2,3,4,5\""
      ]
     },
     "metadata": {},
     "output_type": "display_data"
    },
    {
     "data": {
      "text/plain": [
       "\"5,-4,3e3,2.0,1\""
      ]
     },
     "metadata": {},
     "output_type": "display_data"
    }
   ],
   "source": [
    "f = open(\"test_file.txt\")\n",
    "while !eof(f)\n",
    "    str = readline(f)\n",
    "    display(str)\n",
    "end\n",
    "close(f)"
   ]
  },
  {
   "cell_type": "markdown",
   "metadata": {
    "slideshow": {
     "slide_type": "subslide"
    }
   },
   "source": [
    "The function `eachline` lets you do this in a easier way, and it also supports a filename instead of a stream:"
   ]
  },
  {
   "cell_type": "code",
   "execution_count": 46,
   "metadata": {
    "slideshow": {
     "slide_type": "fragment"
    }
   },
   "outputs": [
    {
     "data": {
      "text/plain": [
       "\"This is a test file\""
      ]
     },
     "metadata": {},
     "output_type": "display_data"
    },
    {
     "data": {
      "text/plain": [
       "\"===================\""
      ]
     },
     "metadata": {},
     "output_type": "display_data"
    },
    {
     "data": {
      "text/plain": [
       "\"\""
      ]
     },
     "metadata": {},
     "output_type": "display_data"
    },
    {
     "data": {
      "text/plain": [
       "\"This is line #4\""
      ]
     },
     "metadata": {},
     "output_type": "display_data"
    },
    {
     "data": {
      "text/plain": [
       "\"Here are some comma-separated numbers:\""
      ]
     },
     "metadata": {},
     "output_type": "display_data"
    },
    {
     "data": {
      "text/plain": [
       "\"\""
      ]
     },
     "metadata": {},
     "output_type": "display_data"
    },
    {
     "data": {
      "text/plain": [
       "\"1,2,3,4,5\""
      ]
     },
     "metadata": {},
     "output_type": "display_data"
    },
    {
     "data": {
      "text/plain": [
       "\"5,-4,3e3,2.0,1\""
      ]
     },
     "metadata": {},
     "output_type": "display_data"
    }
   ],
   "source": [
    "for line in eachline(\"test_file.txt\")\n",
    "    display(line)\n",
    "end"
   ]
  },
  {
   "cell_type": "markdown",
   "metadata": {
    "slideshow": {
     "slide_type": "subslide"
    }
   },
   "source": [
    "If you also read the entire file into a Julia string with the `read` function:"
   ]
  },
  {
   "cell_type": "code",
   "execution_count": 47,
   "metadata": {
    "slideshow": {
     "slide_type": "fragment"
    }
   },
   "outputs": [
    {
     "data": {
      "text/plain": [
       "\"This is a test file\\n===================\\n\\nThis is line #4\\nHere are some comma-separated numbers:\\n\\n1,2,3,4,5\\n5,-4,3e3,2.0,1\""
      ]
     },
     "execution_count": 47,
     "metadata": {},
     "output_type": "execute_result"
    }
   ],
   "source": [
    "str = read(\"test_file.txt\", String)"
   ]
  },
  {
   "cell_type": "markdown",
   "metadata": {
    "slideshow": {
     "slide_type": "fragment"
    }
   },
   "source": [
    "Alternatively, you can read the entire file into an array, with each line an element:"
   ]
  },
  {
   "cell_type": "code",
   "execution_count": 48,
   "metadata": {
    "slideshow": {
     "slide_type": "fragment"
    }
   },
   "outputs": [
    {
     "data": {
      "text/plain": [
       "8-element Array{String,1}:\n",
       " \"This is a test file\"                   \n",
       " \"===================\"                   \n",
       " \"\"                                      \n",
       " \"This is line #4\"                       \n",
       " \"Here are some comma-separated numbers:\"\n",
       " \"\"                                      \n",
       " \"1,2,3,4,5\"                             \n",
       " \"5,-4,3e3,2.0,1\"                        "
      ]
     },
     "execution_count": 48,
     "metadata": {},
     "output_type": "execute_result"
    }
   ],
   "source": [
    "lines = readlines(\"test_file.txt\")"
   ]
  },
  {
   "cell_type": "markdown",
   "metadata": {
    "slideshow": {
     "slide_type": "subslide"
    }
   },
   "source": [
    "You can then access these strings using the usual array syntax, or loop over all of them:"
   ]
  },
  {
   "cell_type": "code",
   "execution_count": 51,
   "metadata": {
    "slideshow": {
     "slide_type": "fragment"
    }
   },
   "outputs": [
    {
     "name": "stdout",
     "output_type": "stream",
     "text": [
      "Line #2 says: ===================\n",
      "\n",
      "Here are all the lines which have between 1 and 18 characters:\n",
      "\n",
      "This is line #4\n",
      "1,2,3,4,5\n",
      "5,-4,3e3,2.0,1\n"
     ]
    }
   ],
   "source": [
    "println(\"Line #2 says: \", lines[2])\n",
    "println()\n",
    "println(\"Here are all the lines which have between 1 and 18 characters:\\n\")\n",
    "for line in lines\n",
    "    if 1 ≤ length(line) ≤ 18\n",
    "        println(line)\n",
    "    end\n",
    "end"
   ]
  },
  {
   "cell_type": "markdown",
   "metadata": {
    "slideshow": {
     "slide_type": "slide"
    }
   },
   "source": [
    "### Writing files\n",
    "\n",
    "The syntax for writing files is similar. The basic usage is demonstrated below:"
   ]
  },
  {
   "cell_type": "code",
   "execution_count": 1,
   "metadata": {
    "slideshow": {
     "slide_type": "fragment"
    }
   },
   "outputs": [],
   "source": [
    "f = open(\"created_data.txt\", \"w\")\n",
    "for i = 1:5\n",
    "     # Create random strings of letters\n",
    "    str = String(rand('a':'z', 50))\n",
    "    write(f, str * \"\\n\")  # Write string to stream f\n",
    "end\n",
    "println(f) # println can be used with streams too\n",
    "\n",
    "# Print Fibonacci numbers to file\n",
    "x = y = 1\n",
    "print(f, \"$x $y\")\n",
    "for i = 1:50\n",
    "    z = x + y\n",
    "    x = y\n",
    "    y = z\n",
    "    print(f, \" $z\")\n",
    "end\n",
    "println(f)\n",
    "close(f)"
   ]
  },
  {
   "cell_type": "code",
   "execution_count": 2,
   "metadata": {
    "slideshow": {
     "slide_type": "subslide"
    }
   },
   "outputs": [
    {
     "name": "stdout",
     "output_type": "stream",
     "text": [
      "exnnprbcqjrfrnbmvvrmhvriaszrgsjhelfjhaalbrzisflwjo\n",
      "ftlwoyaqcjjfyapvnwfmvgoeqbnbsksurvdiowgevyfbkyogre\n",
      "ibynlzozlucbwxsrsqlpiuyphmtofwjocapokgtjsqqttdpdho\n",
      "equeokbwcskkrpxkqlcqvmxpnsombcdzvhyapdyvmuvwyakjte\n",
      "bjavkkoajdpufdxfsdxoikoivvkstcpcqtrkddzwuivlxrajsp\n",
      "\n",
      "1 1 2 3 5 8 13 21 34 55 89 144 233 377 610 987 1597 2584 4181 6765 10946 17711 28657 46368 75025 121393 196418 317811 514229 832040 1346269 2178309 3524578 5702887 9227465 14930352 24157817 39088169 63245986 102334155 165580141 267914296 433494437 701408733 1134903170 1836311903 2971215073 4807526976 7778742049 12586269025 20365011074 32951280099\n"
     ]
    }
   ],
   "source": [
    "# Read file and print each line\n",
    "for line in eachline(\"created_data.txt\")\n",
    "    println(line)\n",
    "end"
   ]
  },
  {
   "cell_type": "markdown",
   "metadata": {
    "slideshow": {
     "slide_type": "slide"
    }
   },
   "source": [
    "### Delimited files\n",
    "\n",
    "The `DelimitedFiles` package contains two convenient functions for reading and writing arrays of data:\n",
    "\n",
    "- `writedlm(filename, A, delim)` writes the array `A` to file `filename`, using the character or string `delim` between each element in a row.\n",
    "\n",
    "- `readdlm(filename, delim, T)` reads an array from a file in a similar way, with the (optional) element type `T`\n",
    "\n",
    "The code below demonstrates these functions."
   ]
  },
  {
   "cell_type": "code",
   "execution_count": 4,
   "metadata": {
    "slideshow": {
     "slide_type": "fragment"
    }
   },
   "outputs": [
    {
     "name": "stdout",
     "output_type": "stream",
     "text": [
      "-0.5628407393427325,0.7903773061352202,-0.7251732784171993,-0.2596272939905203,0.22524686648984477\n",
      "0.7350481059306219,-0.8993655849676568,1.188392275040622,-0.5694960066387179,-0.721587315105174\n",
      "0.2877730925262572,1.302636355561968,-0.6459662343177389,1.2246343747135995,-0.4372129343284092\n",
      "0.18456034955491143,0.058343571746209355,-1.6224875075195648,0.7692646181334429,0.3229791013057399\n",
      "-0.24957916183810938,-0.3384041890378802,1.179092009314686,0.11492069277896787,-0.7523759589123526\n",
      "-1.306671617283084,0.4635291577496365,1.1010846621499475,-0.10919336170875511,0.235584424447275\n",
      "3.0252863020753638,0.12603203960996734,1.3354966257194938,1.689220797466521,-2.763479637679656\n",
      "1.6995436218532023,0.6867494126029525,0.5092786188084852,2.211848999929766,1.370143707284061\n"
     ]
    },
    {
     "data": {
      "text/plain": [
       "true"
      ]
     },
     "execution_count": 4,
     "metadata": {},
     "output_type": "execute_result"
    }
   ],
   "source": [
    "using DelimitedFiles\n",
    "\n",
    "# Write file\n",
    "A = randn(8,5)    # Sample data\n",
    "writedlm(\"created_data.txt\", A, ',')\n",
    "\n",
    "# Print file\n",
    "for line in eachline(\"created_data.txt\")\n",
    "    println(line)\n",
    "end\n",
    "\n",
    "# Read into array\n",
    "B = readdlm(\"created_data.txt\", ',')\n",
    "\n",
    "isequal(A,B) # Check identical"
   ]
  },
  {
   "cell_type": "markdown",
   "metadata": {
    "slideshow": {
     "slide_type": "slide"
    }
   },
   "source": [
    "### Example: Coded triangle numbers\n",
    "\n",
    "Project Euler, problem 42:\n",
    "\n",
    "> The n<sup>th</sup> term of the sequence of triangle numbers is given by, $t_n = n(n+1)/2$; so the first\n",
    "> ten triangle numbers are:\n",
    "> \n",
    ">     1, 3, 6, 10, 15, 21, 28, 36, 45, 55, ...\n",
    ">\n",
    "> By converting each letter in a word to a number corresponding to its alphabetical position and adding\n",
    "> these values we form a word value. For example, the word value for SKY is $19 + 11 + 25 = 55 = t_{10}$. If\n",
    "> the word value is a triangle number then we shall call the word a triangle word.\n",
    ">\n",
    "> Using `p042_words.txt` (right click and 'Save Link/Target As...'), a 16K text file containing nearly\n",
    "> two-thousand common English words, how many are triangle words?\n",
    "    \n",
    "    "
   ]
  },
  {
   "cell_type": "code",
   "execution_count": 44,
   "metadata": {
    "slideshow": {
     "slide_type": "subslide"
    }
   },
   "outputs": [
    {
     "data": {
      "text/plain": [
       "55"
      ]
     },
     "execution_count": 44,
     "metadata": {},
     "output_type": "execute_result"
    }
   ],
   "source": [
    "function word_value(word)\n",
    "    return sum(collect(word) .- 'A' .+ 1)\n",
    "end\n",
    "word_value(\"SKY\")"
   ]
  },
  {
   "cell_type": "code",
   "execution_count": 45,
   "metadata": {
    "slideshow": {
     "slide_type": "fragment"
    }
   },
   "outputs": [
    {
     "name": "stdout",
     "output_type": "stream",
     "text": [
      "There are 162 triangle words in the list\n"
     ]
    }
   ],
   "source": [
    "trinums = [n*(n+1)÷2 for n = 1:50]\n",
    "words = readdlm(\"p042_words.txt\", ',', String)\n",
    "nbrtriwords = count([word_value(word) ∈ trinums for word in words])\n",
    "println(\"There are $nbrtriwords triangle words in the list\")"
   ]
  }
 ],
 "metadata": {
  "celltoolbar": "Slideshow",
  "kernelspec": {
   "display_name": "Julia 1.0.3",
   "language": "julia",
   "name": "julia-1.0"
  },
  "language_info": {
   "file_extension": ".jl",
   "mimetype": "application/julia",
   "name": "julia",
   "version": "1.0.3"
  }
 },
 "nbformat": 4,
 "nbformat_minor": 2
}
